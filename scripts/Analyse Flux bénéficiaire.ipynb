{
 "cells": [
  {
   "cell_type": "code",
   "execution_count": null,
   "id": "a5ef1fb8",
   "metadata": {},
   "outputs": [],
   "source": [
    "import datetime\n",
    "import numpy as np\n",
    "import os\n",
    "import pandas as pd\n",
    "import xml.etree.ElementTree as ET"
   ]
  },
  {
   "cell_type": "code",
   "execution_count": null,
   "id": "326ebcda",
   "metadata": {},
   "outputs": [],
   "source": [
    "file_path = \"C:/users/moi/document/flux_beneficiaire.xml\"\n",
    "assert os.path.exists(file_path)"
   ]
  },
  {
   "cell_type": "code",
   "execution_count": null,
   "id": "01049133",
   "metadata": {},
   "outputs": [],
   "source": [
    "tree = ET.parse(file_path)"
   ]
  },
  {
   "cell_type": "code",
   "execution_count": null,
   "id": "68c8f5a7",
   "metadata": {},
   "outputs": [],
   "source": [
    "root = tree.getroot()"
   ]
  },
  {
   "cell_type": "code",
   "execution_count": null,
   "id": "b8155d70",
   "metadata": {},
   "outputs": [],
   "source": [
    "ts = datetime.datetime.now()\n",
    "ts_ = ts.strftime(\"%Y-%m-%d_%H-%M-%S\")\n",
    "writer = pd.ExcelWriter(\"extract_analyse_entrants_\" + ts_ + \".xlsx\")"
   ]
  },
  {
   "cell_type": "code",
   "execution_count": null,
   "id": "2858b205",
   "metadata": {},
   "outputs": [],
   "source": [
    "def get(node, attribute, default_value=None):\n",
    "  try:\n",
    "    return next(node.iter(attribute)).text\n",
    "  except Exception as e:\n",
    "    return default_value\n"
   ]
  },
  {
   "cell_type": "code",
   "execution_count": null,
   "id": "e2458831",
   "metadata": {},
   "outputs": [],
   "source": [
    "dossier_data = []\n",
    "personne_data = []\n",
    "\n",
    "for dossier in root.iter('InfosFoyerRSA'):\n",
    "    NUMDEMRSA = get(dossier, 'NUMDEMRSA')\n",
    "    ETATDOSRSA = int(get(dossier, 'ETATDOSRSA', -1))\n",
    "    MOTISUSVERSRSA = get(dossier, 'MOTISUSVERSRSA', '-1')\n",
    "    dossier_data.append((NUMDEMRSA, ETATDOSRSA, MOTISUSVERSRSA))\n",
    "\n",
    "    for personne in dossier.iter('Personne'):\n",
    "        personne_data.append((\n",
    "            NUMDEMRSA,\n",
    "            ETATDOSRSA,\n",
    "            MOTISUSVERSRSA,\n",
    "            get(list(personne.iter('Identification'))[0], 'NIR'),\n",
    "            get(personne, 'ROLEPERS'),\n",
    "            int(get(personne, 'TOPPERSDRODEVORSA', -1)),\n",
    "            int(get(personne, 'TOPPERSENTDRODEVORSA', -1))\n",
    "            \n",
    "        ))\n"
   ]
  },
  {
   "cell_type": "code",
   "execution_count": null,
   "id": "5033fb3f",
   "metadata": {},
   "outputs": [],
   "source": [
    "dossier_columns = ['NUMDEMRSA', 'ETATDOSRSA', 'MOTISUSVERSRSA']\n",
    "df_dossier = pd.DataFrame.from_records(dossier_data, columns=dossier_columns)\n",
    "df_dossier['MOTISUSVERSRSA'] = df_dossier['MOTISUSVERSRSA'].astype('category')"
   ]
  },
  {
   "cell_type": "code",
   "execution_count": null,
   "id": "d69dfecd",
   "metadata": {},
   "outputs": [],
   "source": [
    "res_dossier = df_dossier.pivot_table(index =['ETATDOSRSA', 'MOTISUSVERSRSA'], values='NUMDEMRSA', aggfunc=len)\n",
    "res_dossier.to_excel(writer, 'Dossiers')\n",
    "res_dossier"
   ]
  },
  {
   "cell_type": "code",
   "execution_count": null,
   "id": "eecc5d13",
   "metadata": {},
   "outputs": [],
   "source": [
    "df_personne = pd.DataFrame.from_records(personne_data, columns=dossier_columns+['NIR', 'ROLEPERS', 'TOPPERSDRODEVORSA', 'TOPPERSENTDRODEVORSA'])\n",
    "df_personne['ROLEPERS'] = df_personne['ROLEPERS'].astype('category')"
   ]
  },
  {
   "cell_type": "code",
   "execution_count": null,
   "id": "931d4d1f",
   "metadata": {},
   "outputs": [],
   "source": [
    "res_personne = df_personne[df_personne.NIR.isnull()].pivot_table(index =['ROLEPERS'], columns=['TOPPERSDRODEVORSA'],values=\"NIR\", aggfunc=len)\n",
    "res_personne.to_excel(writer, 'Personnes_sans_NIR')\n",
    "res_personne"
   ]
  },
  {
   "cell_type": "code",
   "execution_count": null,
   "id": "58367cf8",
   "metadata": {},
   "outputs": [],
   "source": [
    "res_personne_motifs = df_personne.pivot_table(index =['ETATDOSRSA', 'MOTISUSVERSRSA'], columns='ROLEPERS', values=\"NUMDEMRSA\", aggfunc=len)\n",
    "res_personne_motifs.to_excel(writer, 'Personnes_Motifs')\n",
    "res_personne_motifs"
   ]
  },
  {
   "cell_type": "code",
   "execution_count": null,
   "id": "ca51a8c4",
   "metadata": {},
   "outputs": [],
   "source": [
    "res_personne_ded = df_personne[df_personne.TOPPERSDRODEVORSA == 1].pivot_table(index =['ETATDOSRSA', 'MOTISUSVERSRSA'], columns='ROLEPERS', values=\"NUMDEMRSA\", aggfunc=len)\n",
    "res_personne_ded.to_excel(writer, 'Personnes_TOPPERSDRODEVORSA_1')\n",
    "res_personne_ded"
   ]
  },
  {
   "cell_type": "code",
   "execution_count": null,
   "id": "bcfe949e",
   "metadata": {},
   "outputs": [],
   "source": [
    "res_p_details = df_personne.pivot_table(index =['ETATDOSRSA', 'MOTISUSVERSRSA'], columns=[\"TOPPERSDRODEVORSA\", \"ROLEPERS\"], values='NUMDEMRSA', aggfunc=len)\n",
    "res_p_details.to_excel(writer, 'Personnes_détails')\n",
    "res_p_details"
   ]
  },
  {
   "cell_type": "code",
   "execution_count": null,
   "id": "92cf805a",
   "metadata": {},
   "outputs": [],
   "source": [
    "REAL_ELIGIBLE_SUSPENSION_MOTIVES = (\n",
    "    (df_personne.MOTISUSVERSRSA == '05') +\n",
    "    (df_personne.MOTISUSVERSRSA == '44') +\n",
    "    (df_personne.MOTISUSVERSRSA == '70')\n",
    ")\n",
    "THEORICAL_ELIGIBLE_SUSPENSION_MOTIVES = (\n",
    "    (df_personne.MOTISUSVERSRSA == '01') +\n",
    "    (df_personne.MOTISUSVERSRSA == '06') +\n",
    "    (df_personne.MOTISUSVERSRSA == '35') +\n",
    "    (df_personne.MOTISUSVERSRSA == '36')\n",
    ")\n",
    "ELIGIBLE_SUSPENSION_MOTIVES = REAL_ELIGIBLE_SUSPENSION_MOTIVES + THEORICAL_ELIGIBLE_SUSPENSION_MOTIVES"
   ]
  },
  {
   "cell_type": "code",
   "execution_count": null,
   "id": "5708a210",
   "metadata": {},
   "outputs": [],
   "source": [
    "TOP_SOUMIS_DD = (df_personne.ETATDOSRSA == 2) + (df_personne.ETATDOSRSA == 3) + (df_personne.ETATDOSRSA == 4) * ELIGIBLE_SUSPENSION_MOTIVES\n",
    "df_personne['RECALC_TOP_SOUMIS_DD'] = TOP_SOUMIS_DD"
   ]
  },
  {
   "cell_type": "code",
   "execution_count": null,
   "id": "df01c73d",
   "metadata": {},
   "outputs": [],
   "source": [
    "res_recalc = df_personne.pivot_table(index =['ETATDOSRSA', 'MOTISUSVERSRSA'], columns=[\"RECALC_TOP_SOUMIS_DD\", \"TOPPERSDRODEVORSA\", \"ROLEPERS\"], values='NUMDEMRSA', aggfunc=len)\n",
    "res_recalc.to_excel(writer, \"Recalcul DeD\")\n",
    "res_recalc"
   ]
  },
  {
   "cell_type": "code",
   "execution_count": null,
   "id": "fce9f83e",
   "metadata": {},
   "outputs": [],
   "source": [
    "df_personne.pivot_table(index =['TOPPERSDRODEVORSA'], columns=\"TOPPERSENTDRODEVORSA\", values='NUMDEMRSA', aggfunc=len)"
   ]
  },
  {
   "cell_type": "code",
   "execution_count": null,
   "id": "b416f582",
   "metadata": {},
   "outputs": [],
   "source": [
    "df_personne[df_personne.TOPPERSENTDRODEVORSA != -1].pivot_table(index =['ETATDOSRSA', 'MOTISUSVERSRSA'], columns=\"TOPPERSENTDRODEVORSA\", values='NUMDEMRSA', aggfunc=len)"
   ]
  },
  {
   "cell_type": "code",
   "execution_count": null,
   "id": "6c2f5fab",
   "metadata": {},
   "outputs": [],
   "source": [
    "writer.save()"
   ]
  },
  {
   "cell_type": "code",
   "execution_count": null,
   "id": "5ee1bc41",
   "metadata": {},
   "outputs": [],
   "source": []
  }
 ],
 "metadata": {
  "kernelspec": {
   "display_name": "Python 3 (ipykernel)",
   "language": "python",
   "name": "python3"
  },
  "language_info": {
   "codemirror_mode": {
    "name": "ipython",
    "version": 3
   },
   "file_extension": ".py",
   "mimetype": "text/x-python",
   "name": "python",
   "nbconvert_exporter": "python",
   "pygments_lexer": "ipython3",
   "version": "3.7.10"
  }
 },
 "nbformat": 4,
 "nbformat_minor": 5
}
